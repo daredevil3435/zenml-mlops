{
 "cells": [
  {
   "cell_type": "code",
   "execution_count": 4,
   "id": "e4643751",
   "metadata": {},
   "outputs": [
    {
     "name": "stdout",
     "output_type": "stream",
     "text": [
      "Requirement already satisfied: zenml[server] in /Users/apple/anaconda3/lib/python3.11/site-packages (0.57.0)\n",
      "Requirement already satisfied: Jinja2 in /Users/apple/anaconda3/lib/python3.11/site-packages (from zenml[server]) (3.1.2)\n",
      "Requirement already satisfied: alembic<1.9.0,>=1.8.1 in /Users/apple/anaconda3/lib/python3.11/site-packages (from zenml[server]) (1.8.1)\n",
      "Requirement already satisfied: azure-mgmt-resource>=21.0.0 in /Users/apple/anaconda3/lib/python3.11/site-packages (from zenml[server]) (23.1.1)\n",
      "Requirement already satisfied: bcrypt==4.0.1 in /Users/apple/anaconda3/lib/python3.11/site-packages (from zenml[server]) (4.0.1)\n",
      "Requirement already satisfied: click<8.1.4,>=8.0.1 in /Users/apple/anaconda3/lib/python3.11/site-packages (from zenml[server]) (8.0.4)\n",
      "Requirement already satisfied: click-params<0.4.0,>=0.3.0 in /Users/apple/anaconda3/lib/python3.11/site-packages (from zenml[server]) (0.3.0)\n",
      "Requirement already satisfied: cloudpickle<3,>=2.0.0 in /Users/apple/anaconda3/lib/python3.11/site-packages (from zenml[server]) (2.2.1)\n",
      "Requirement already satisfied: distro<2.0.0,>=1.6.0 in /Users/apple/anaconda3/lib/python3.11/site-packages (from zenml[server]) (1.9.0)\n",
      "Requirement already satisfied: docker<6.2.0,>=6.1.0 in /Users/apple/anaconda3/lib/python3.11/site-packages (from zenml[server]) (6.1.3)\n",
      "Requirement already satisfied: fastapi<0.111,>=0.75 in /Users/apple/anaconda3/lib/python3.11/site-packages (from zenml[server]) (0.110.3)\n",
      "Requirement already satisfied: fastapi-utils<0.3.0,>=0.2.1 in /Users/apple/anaconda3/lib/python3.11/site-packages (from zenml[server]) (0.2.1)\n",
      "Requirement already satisfied: gitpython<4.0.0,>=3.1.18 in /Users/apple/anaconda3/lib/python3.11/site-packages (from zenml[server]) (3.1.43)\n",
      "Requirement already satisfied: httplib2<0.20,>=0.19.1 in /Users/apple/anaconda3/lib/python3.11/site-packages (from zenml[server]) (0.19.1)\n",
      "Requirement already satisfied: ipinfo>=4.4.3 in /Users/apple/anaconda3/lib/python3.11/site-packages (from zenml[server]) (5.0.1)\n",
      "Requirement already satisfied: orjson<3.11.0,>=3.10.0 in /Users/apple/anaconda3/lib/python3.11/site-packages (from zenml[server]) (3.10.3)\n",
      "Requirement already satisfied: pandas>=1.1.5 in /Users/apple/anaconda3/lib/python3.11/site-packages (from zenml[server]) (2.0.3)\n",
      "Requirement already satisfied: passlib[bcrypt]<1.8.0,>=1.7.4 in /Users/apple/anaconda3/lib/python3.11/site-packages (from zenml[server]) (1.7.4)\n",
      "Requirement already satisfied: psutil>=5.0.0 in /Users/apple/anaconda3/lib/python3.11/site-packages (from zenml[server]) (5.9.0)\n",
      "Requirement already satisfied: pydantic<1.11,>=1.9.0 in /Users/apple/anaconda3/lib/python3.11/site-packages (from zenml[server]) (1.10.8)\n",
      "Requirement already satisfied: pyjwt[crypto]==2.7.* in /Users/apple/anaconda3/lib/python3.11/site-packages (from zenml[server]) (2.7.0)\n",
      "Requirement already satisfied: pymysql<1.1.0,>=1.0.2 in /Users/apple/anaconda3/lib/python3.11/site-packages (from zenml[server]) (1.0.3)\n",
      "Requirement already satisfied: pyparsing<3,>=2.4.0 in /Users/apple/anaconda3/lib/python3.11/site-packages (from zenml[server]) (2.4.2)\n",
      "Requirement already satisfied: python-dateutil<3.0.0,>=2.8.1 in /Users/apple/anaconda3/lib/python3.11/site-packages (from zenml[server]) (2.8.2)\n",
      "Requirement already satisfied: python-multipart<0.1.0,>=0.0.9 in /Users/apple/anaconda3/lib/python3.11/site-packages (from zenml[server]) (0.0.9)\n",
      "Requirement already satisfied: pyyaml>=6.0.1 in /Users/apple/anaconda3/lib/python3.11/site-packages (from zenml[server]) (6.0.1)\n",
      "Requirement already satisfied: rich[jupyter]>=12.0.0 in /Users/apple/anaconda3/lib/python3.11/site-packages (from zenml[server]) (13.7.1)\n",
      "Requirement already satisfied: secure<0.4.0,>=0.3.0 in /Users/apple/anaconda3/lib/python3.11/site-packages (from zenml[server]) (0.3.0)\n",
      "Requirement already satisfied: sqlalchemy_utils==0.38.3 in /Users/apple/anaconda3/lib/python3.11/site-packages (from zenml[server]) (0.38.3)\n",
      "Requirement already satisfied: sqlmodel==0.0.8 in /Users/apple/anaconda3/lib/python3.11/site-packages (from zenml[server]) (0.0.8)\n",
      "Requirement already satisfied: uvicorn[standard]>=0.17.5 in /Users/apple/anaconda3/lib/python3.11/site-packages (from zenml[server]) (0.29.0)\n",
      "Requirement already satisfied: cryptography>=3.4.0 in /Users/apple/anaconda3/lib/python3.11/site-packages (from pyjwt[crypto]==2.7.*->zenml[server]) (41.0.3)\n",
      "Requirement already satisfied: SQLAlchemy>=1.3 in /Users/apple/anaconda3/lib/python3.11/site-packages (from sqlalchemy_utils==0.38.3->zenml[server]) (1.4.39)\n",
      "Requirement already satisfied: sqlalchemy2-stubs in /Users/apple/anaconda3/lib/python3.11/site-packages (from sqlmodel==0.0.8->zenml[server]) (0.0.2a38)\n",
      "Requirement already satisfied: Mako in /Users/apple/anaconda3/lib/python3.11/site-packages (from alembic<1.9.0,>=1.8.1->zenml[server]) (1.3.3)\n",
      "Requirement already satisfied: isodate>=0.6.1 in /Users/apple/anaconda3/lib/python3.11/site-packages (from azure-mgmt-resource>=21.0.0->zenml[server]) (0.6.1)\n",
      "Requirement already satisfied: azure-common>=1.1 in /Users/apple/anaconda3/lib/python3.11/site-packages (from azure-mgmt-resource>=21.0.0->zenml[server]) (1.1.28)\n",
      "Requirement already satisfied: azure-mgmt-core>=1.3.2 in /Users/apple/anaconda3/lib/python3.11/site-packages (from azure-mgmt-resource>=21.0.0->zenml[server]) (1.4.0)\n",
      "Requirement already satisfied: validators<0.19,>=0.18 in /Users/apple/anaconda3/lib/python3.11/site-packages (from click-params<0.4.0,>=0.3.0->zenml[server]) (0.18.2)\n",
      "Requirement already satisfied: packaging>=14.0 in /Users/apple/anaconda3/lib/python3.11/site-packages (from docker<6.2.0,>=6.1.0->zenml[server]) (23.2)\n",
      "Requirement already satisfied: requests>=2.26.0 in /Users/apple/anaconda3/lib/python3.11/site-packages (from docker<6.2.0,>=6.1.0->zenml[server]) (2.31.0)\n",
      "Requirement already satisfied: urllib3>=1.26.0 in /Users/apple/anaconda3/lib/python3.11/site-packages (from docker<6.2.0,>=6.1.0->zenml[server]) (1.26.16)\n",
      "Requirement already satisfied: websocket-client>=0.32.0 in /Users/apple/anaconda3/lib/python3.11/site-packages (from docker<6.2.0,>=6.1.0->zenml[server]) (0.58.0)\n",
      "Requirement already satisfied: starlette<0.38.0,>=0.37.2 in /Users/apple/anaconda3/lib/python3.11/site-packages (from fastapi<0.111,>=0.75->zenml[server]) (0.37.2)\n",
      "Requirement already satisfied: typing-extensions>=4.8.0 in /Users/apple/anaconda3/lib/python3.11/site-packages (from fastapi<0.111,>=0.75->zenml[server]) (4.9.0)\n",
      "Requirement already satisfied: gitdb<5,>=4.0.1 in /Users/apple/anaconda3/lib/python3.11/site-packages (from gitpython<4.0.0,>=3.1.18->zenml[server]) (4.0.11)\n",
      "Requirement already satisfied: cachetools in /Users/apple/anaconda3/lib/python3.11/site-packages (from ipinfo>=4.4.3->zenml[server]) (5.3.2)\n",
      "Requirement already satisfied: aiohttp<=4 in /Users/apple/anaconda3/lib/python3.11/site-packages (from ipinfo>=4.4.3->zenml[server]) (3.8.5)\n",
      "Requirement already satisfied: pytz>=2020.1 in /Users/apple/anaconda3/lib/python3.11/site-packages (from pandas>=1.1.5->zenml[server]) (2023.3.post1)\n",
      "Requirement already satisfied: tzdata>=2022.1 in /Users/apple/anaconda3/lib/python3.11/site-packages (from pandas>=1.1.5->zenml[server]) (2023.3)\n",
      "Requirement already satisfied: numpy>=1.21.0 in /Users/apple/anaconda3/lib/python3.11/site-packages (from pandas>=1.1.5->zenml[server]) (1.26.4)\n",
      "Requirement already satisfied: six>=1.5 in /Users/apple/anaconda3/lib/python3.11/site-packages (from python-dateutil<3.0.0,>=2.8.1->zenml[server]) (1.16.0)\n",
      "Requirement already satisfied: ipywidgets<9,>=7.5.1 in /Users/apple/anaconda3/lib/python3.11/site-packages (from rich[jupyter]>=12.0.0->zenml[server]) (8.0.4)\n",
      "Requirement already satisfied: markdown-it-py>=2.2.0 in /Users/apple/anaconda3/lib/python3.11/site-packages (from rich[jupyter]>=12.0.0->zenml[server]) (2.2.0)\n",
      "Requirement already satisfied: pygments<3.0.0,>=2.13.0 in /Users/apple/anaconda3/lib/python3.11/site-packages (from rich[jupyter]>=12.0.0->zenml[server]) (2.15.1)\n",
      "Requirement already satisfied: h11>=0.8 in /Users/apple/anaconda3/lib/python3.11/site-packages (from uvicorn[standard]>=0.17.5->zenml[server]) (0.14.0)\n",
      "Requirement already satisfied: httptools>=0.5.0 in /Users/apple/anaconda3/lib/python3.11/site-packages (from uvicorn[standard]>=0.17.5->zenml[server]) (0.6.1)\n"
     ]
    },
    {
     "name": "stdout",
     "output_type": "stream",
     "text": [
      "Requirement already satisfied: python-dotenv>=0.13 in /Users/apple/anaconda3/lib/python3.11/site-packages (from uvicorn[standard]>=0.17.5->zenml[server]) (0.21.0)\n",
      "Requirement already satisfied: uvloop!=0.15.0,!=0.15.1,>=0.14.0 in /Users/apple/anaconda3/lib/python3.11/site-packages (from uvicorn[standard]>=0.17.5->zenml[server]) (0.19.0)\n",
      "Requirement already satisfied: watchfiles>=0.13 in /Users/apple/anaconda3/lib/python3.11/site-packages (from uvicorn[standard]>=0.17.5->zenml[server]) (0.21.0)\n",
      "Requirement already satisfied: websockets>=10.4 in /Users/apple/anaconda3/lib/python3.11/site-packages (from uvicorn[standard]>=0.17.5->zenml[server]) (12.0)\n",
      "Requirement already satisfied: MarkupSafe>=2.0 in /Users/apple/anaconda3/lib/python3.11/site-packages (from Jinja2->zenml[server]) (2.1.1)\n",
      "Requirement already satisfied: attrs>=17.3.0 in /Users/apple/anaconda3/lib/python3.11/site-packages (from aiohttp<=4->ipinfo>=4.4.3->zenml[server]) (23.2.0)\n",
      "Requirement already satisfied: charset-normalizer<4.0,>=2.0 in /Users/apple/anaconda3/lib/python3.11/site-packages (from aiohttp<=4->ipinfo>=4.4.3->zenml[server]) (2.0.4)\n",
      "Requirement already satisfied: multidict<7.0,>=4.5 in /Users/apple/anaconda3/lib/python3.11/site-packages (from aiohttp<=4->ipinfo>=4.4.3->zenml[server]) (6.0.2)\n",
      "Requirement already satisfied: async-timeout<5.0,>=4.0.0a3 in /Users/apple/anaconda3/lib/python3.11/site-packages (from aiohttp<=4->ipinfo>=4.4.3->zenml[server]) (4.0.2)\n",
      "Requirement already satisfied: yarl<2.0,>=1.0 in /Users/apple/anaconda3/lib/python3.11/site-packages (from aiohttp<=4->ipinfo>=4.4.3->zenml[server]) (1.8.1)\n",
      "Requirement already satisfied: frozenlist>=1.1.1 in /Users/apple/anaconda3/lib/python3.11/site-packages (from aiohttp<=4->ipinfo>=4.4.3->zenml[server]) (1.3.3)\n",
      "Requirement already satisfied: aiosignal>=1.1.2 in /Users/apple/anaconda3/lib/python3.11/site-packages (from aiohttp<=4->ipinfo>=4.4.3->zenml[server]) (1.2.0)\n",
      "Requirement already satisfied: azure-core<2.0.0,>=1.26.2 in /Users/apple/anaconda3/lib/python3.11/site-packages (from azure-mgmt-core>=1.3.2->azure-mgmt-resource>=21.0.0->zenml[server]) (1.30.1)\n",
      "Requirement already satisfied: cffi>=1.12 in /Users/apple/anaconda3/lib/python3.11/site-packages (from cryptography>=3.4.0->pyjwt[crypto]==2.7.*->zenml[server]) (1.15.1)\n",
      "Requirement already satisfied: smmap<6,>=3.0.1 in /Users/apple/anaconda3/lib/python3.11/site-packages (from gitdb<5,>=4.0.1->gitpython<4.0.0,>=3.1.18->zenml[server]) (5.0.1)\n",
      "Requirement already satisfied: ipykernel>=4.5.1 in /Users/apple/anaconda3/lib/python3.11/site-packages (from ipywidgets<9,>=7.5.1->rich[jupyter]>=12.0.0->zenml[server]) (6.25.0)\n",
      "Requirement already satisfied: ipython>=6.1.0 in /Users/apple/anaconda3/lib/python3.11/site-packages (from ipywidgets<9,>=7.5.1->rich[jupyter]>=12.0.0->zenml[server]) (8.15.0)\n",
      "Requirement already satisfied: traitlets>=4.3.1 in /Users/apple/anaconda3/lib/python3.11/site-packages (from ipywidgets<9,>=7.5.1->rich[jupyter]>=12.0.0->zenml[server]) (5.7.1)\n",
      "Requirement already satisfied: widgetsnbextension~=4.0 in /Users/apple/anaconda3/lib/python3.11/site-packages (from ipywidgets<9,>=7.5.1->rich[jupyter]>=12.0.0->zenml[server]) (4.0.5)\n",
      "Requirement already satisfied: jupyterlab-widgets~=3.0 in /Users/apple/anaconda3/lib/python3.11/site-packages (from ipywidgets<9,>=7.5.1->rich[jupyter]>=12.0.0->zenml[server]) (3.0.5)\n",
      "Requirement already satisfied: mdurl~=0.1 in /Users/apple/anaconda3/lib/python3.11/site-packages (from markdown-it-py>=2.2.0->rich[jupyter]>=12.0.0->zenml[server]) (0.1.0)\n",
      "Requirement already satisfied: idna<4,>=2.5 in /Users/apple/anaconda3/lib/python3.11/site-packages (from requests>=2.26.0->docker<6.2.0,>=6.1.0->zenml[server]) (3.4)\n",
      "Requirement already satisfied: certifi>=2017.4.17 in /Users/apple/anaconda3/lib/python3.11/site-packages (from requests>=2.26.0->docker<6.2.0,>=6.1.0->zenml[server]) (2023.11.17)\n",
      "Requirement already satisfied: anyio<5,>=3.4.0 in /Users/apple/anaconda3/lib/python3.11/site-packages (from starlette<0.38.0,>=0.37.2->fastapi<0.111,>=0.75->zenml[server]) (3.5.0)\n",
      "Requirement already satisfied: decorator>=3.4.0 in /Users/apple/anaconda3/lib/python3.11/site-packages (from validators<0.19,>=0.18->click-params<0.4.0,>=0.3.0->zenml[server]) (5.1.1)\n",
      "Requirement already satisfied: sniffio>=1.1 in /Users/apple/anaconda3/lib/python3.11/site-packages (from anyio<5,>=3.4.0->starlette<0.38.0,>=0.37.2->fastapi<0.111,>=0.75->zenml[server]) (1.2.0)\n",
      "Requirement already satisfied: pycparser in /Users/apple/anaconda3/lib/python3.11/site-packages (from cffi>=1.12->cryptography>=3.4.0->pyjwt[crypto]==2.7.*->zenml[server]) (2.21)\n",
      "Requirement already satisfied: appnope in /Users/apple/anaconda3/lib/python3.11/site-packages (from ipykernel>=4.5.1->ipywidgets<9,>=7.5.1->rich[jupyter]>=12.0.0->zenml[server]) (0.1.2)\n",
      "Requirement already satisfied: comm>=0.1.1 in /Users/apple/anaconda3/lib/python3.11/site-packages (from ipykernel>=4.5.1->ipywidgets<9,>=7.5.1->rich[jupyter]>=12.0.0->zenml[server]) (0.1.2)\n",
      "Requirement already satisfied: debugpy>=1.6.5 in /Users/apple/anaconda3/lib/python3.11/site-packages (from ipykernel>=4.5.1->ipywidgets<9,>=7.5.1->rich[jupyter]>=12.0.0->zenml[server]) (1.6.7)\n",
      "Requirement already satisfied: jupyter-client>=6.1.12 in /Users/apple/anaconda3/lib/python3.11/site-packages (from ipykernel>=4.5.1->ipywidgets<9,>=7.5.1->rich[jupyter]>=12.0.0->zenml[server]) (7.4.9)\n",
      "Requirement already satisfied: jupyter-core!=5.0.*,>=4.12 in /Users/apple/anaconda3/lib/python3.11/site-packages (from ipykernel>=4.5.1->ipywidgets<9,>=7.5.1->rich[jupyter]>=12.0.0->zenml[server]) (5.3.0)\n",
      "Requirement already satisfied: matplotlib-inline>=0.1 in /Users/apple/anaconda3/lib/python3.11/site-packages (from ipykernel>=4.5.1->ipywidgets<9,>=7.5.1->rich[jupyter]>=12.0.0->zenml[server]) (0.1.6)\n",
      "Requirement already satisfied: nest-asyncio in /Users/apple/anaconda3/lib/python3.11/site-packages (from ipykernel>=4.5.1->ipywidgets<9,>=7.5.1->rich[jupyter]>=12.0.0->zenml[server]) (1.5.6)\n",
      "Requirement already satisfied: pyzmq>=20 in /Users/apple/anaconda3/lib/python3.11/site-packages (from ipykernel>=4.5.1->ipywidgets<9,>=7.5.1->rich[jupyter]>=12.0.0->zenml[server]) (23.2.0)\n",
      "Requirement already satisfied: tornado>=6.1 in /Users/apple/anaconda3/lib/python3.11/site-packages (from ipykernel>=4.5.1->ipywidgets<9,>=7.5.1->rich[jupyter]>=12.0.0->zenml[server]) (6.3.2)\n",
      "Requirement already satisfied: backcall in /Users/apple/anaconda3/lib/python3.11/site-packages (from ipython>=6.1.0->ipywidgets<9,>=7.5.1->rich[jupyter]>=12.0.0->zenml[server]) (0.2.0)\n",
      "Requirement already satisfied: jedi>=0.16 in /Users/apple/anaconda3/lib/python3.11/site-packages (from ipython>=6.1.0->ipywidgets<9,>=7.5.1->rich[jupyter]>=12.0.0->zenml[server]) (0.18.1)\n",
      "Requirement already satisfied: pickleshare in /Users/apple/anaconda3/lib/python3.11/site-packages (from ipython>=6.1.0->ipywidgets<9,>=7.5.1->rich[jupyter]>=12.0.0->zenml[server]) (0.7.5)\n",
      "Requirement already satisfied: prompt-toolkit!=3.0.37,<3.1.0,>=3.0.30 in /Users/apple/anaconda3/lib/python3.11/site-packages (from ipython>=6.1.0->ipywidgets<9,>=7.5.1->rich[jupyter]>=12.0.0->zenml[server]) (3.0.36)\n",
      "Requirement already satisfied: stack-data in /Users/apple/anaconda3/lib/python3.11/site-packages (from ipython>=6.1.0->ipywidgets<9,>=7.5.1->rich[jupyter]>=12.0.0->zenml[server]) (0.2.0)\n",
      "Requirement already satisfied: pexpect>4.3 in /Users/apple/anaconda3/lib/python3.11/site-packages (from ipython>=6.1.0->ipywidgets<9,>=7.5.1->rich[jupyter]>=12.0.0->zenml[server]) (4.8.0)\n",
      "Requirement already satisfied: parso<0.9.0,>=0.8.0 in /Users/apple/anaconda3/lib/python3.11/site-packages (from jedi>=0.16->ipython>=6.1.0->ipywidgets<9,>=7.5.1->rich[jupyter]>=12.0.0->zenml[server]) (0.8.3)\n",
      "Requirement already satisfied: entrypoints in /Users/apple/anaconda3/lib/python3.11/site-packages (from jupyter-client>=6.1.12->ipykernel>=4.5.1->ipywidgets<9,>=7.5.1->rich[jupyter]>=12.0.0->zenml[server]) (0.4)\n",
      "Requirement already satisfied: platformdirs>=2.5 in /Users/apple/anaconda3/lib/python3.11/site-packages (from jupyter-core!=5.0.*,>=4.12->ipykernel>=4.5.1->ipywidgets<9,>=7.5.1->rich[jupyter]>=12.0.0->zenml[server]) (3.10.0)\n",
      "Requirement already satisfied: ptyprocess>=0.5 in /Users/apple/anaconda3/lib/python3.11/site-packages (from pexpect>4.3->ipython>=6.1.0->ipywidgets<9,>=7.5.1->rich[jupyter]>=12.0.0->zenml[server]) (0.7.0)\n",
      "Requirement already satisfied: wcwidth in /Users/apple/anaconda3/lib/python3.11/site-packages (from prompt-toolkit!=3.0.37,<3.1.0,>=3.0.30->ipython>=6.1.0->ipywidgets<9,>=7.5.1->rich[jupyter]>=12.0.0->zenml[server]) (0.2.5)\n"
     ]
    },
    {
     "name": "stdout",
     "output_type": "stream",
     "text": [
      "Requirement already satisfied: executing in /Users/apple/anaconda3/lib/python3.11/site-packages (from stack-data->ipython>=6.1.0->ipywidgets<9,>=7.5.1->rich[jupyter]>=12.0.0->zenml[server]) (0.8.3)\n",
      "Requirement already satisfied: asttokens in /Users/apple/anaconda3/lib/python3.11/site-packages (from stack-data->ipython>=6.1.0->ipywidgets<9,>=7.5.1->rich[jupyter]>=12.0.0->zenml[server]) (2.0.5)\n",
      "Requirement already satisfied: pure-eval in /Users/apple/anaconda3/lib/python3.11/site-packages (from stack-data->ipython>=6.1.0->ipywidgets<9,>=7.5.1->rich[jupyter]>=12.0.0->zenml[server]) (0.2.2)\n",
      "Note: you may need to restart the kernel to use updated packages.\n",
      "\u001b[1;35mNumExpr defaulting to 8 threads.\u001b[0m\n",
      "\u001b[2K\u001b[32m⠧\u001b[0m Installing integrations.....\n",
      "\u001b[1A\u001b[2KRequirement already satisfied: pyparsing==2.4.2 in /Users/apple/anaconda3/lib/python3.11/site-packages (2.4.2)\n",
      "Note: you may need to restart the kernel to use updated packages.\n"
     ]
    }
   ],
   "source": [
    "%pip install \"zenml[server]\"\n",
    "!zenml integration install sklearn -y\n",
    "%pip install pyparsing==2.4.2\n",
    "\n",
    "import IPython"
   ]
  },
  {
   "cell_type": "code",
   "execution_count": 5,
   "id": "7625b6f0",
   "metadata": {},
   "outputs": [
    {
     "data": {
      "text/plain": [
       "{'status': 'ok', 'restart': True}"
      ]
     },
     "execution_count": 5,
     "metadata": {},
     "output_type": "execute_result"
    }
   ],
   "source": [
    "IPython.Application.instance().kernel.do_shutdown(restart=True)"
   ]
  },
  {
   "cell_type": "code",
   "execution_count": 6,
   "id": "08a00bbb",
   "metadata": {},
   "outputs": [
    {
     "name": "stdout",
     "output_type": "stream",
     "text": [
      "\u001b[1;35mNumExpr defaulting to 8 threads.\u001b[0m\n",
      "\u001b[?25l\u001b[32m⠋\u001b[0m Initializing ZenML repository at /Users/apple/Downloads/ML projects/MLOps.\n",
      "\u001b[1;35mSetting the repo active workspace to 'default'.\u001b[0m\n",
      "\u001b[33mSetting the repo active stack to default.\u001b[0m\n",
      "\u001b[2K\u001b[1A\u001b[2K\u001b[2;36mZenML repository initialized at \u001b[0m\u001b[2;35m/Users/apple/Downloads/\u001b[0m\u001b[2;95mML\u001b[0m\u001b[2;36m projects/MLOps.\u001b[0m\n",
      "\u001b[2;32m⠋\u001b[0m\u001b[2;36m Initializing ZenML repository at /Users/apple/Downloads/ML projects/MLOps.\u001b[0m\n",
      "\u001b[2K\u001b[1A\u001b[2K\u001b[32m⠋\u001b[0m Initializing ZenML repository at /Users/apple/Downloads/ML projects/MLOps.\n",
      "\n",
      "\u001b[1A\u001b[2K\u001b[1A\u001b[2K\u001b[2;36mThe local active stack was initialized to \u001b[0m\u001b[2;32m'default'\u001b[0m\u001b[2;36m. This local configuration \u001b[0m\n",
      "\u001b[2;36mwill only take effect when you're running ZenML from the initialized repository \u001b[0m\n",
      "\u001b[2;36mroot, or from a subdirectory. For more information on repositories and \u001b[0m\n",
      "\u001b[2;36mconfigurations, please visit \u001b[0m\n",
      "\u001b[2;4;94mhttps://docs.zenml.io/user-guide/starter-guide/understand-stacks.\u001b[0m\n"
     ]
    }
   ],
   "source": [
    "#ZenML setup\n",
    "\n",
    "!rm -rf .zen\n",
    "!zenml init"
   ]
  },
  {
   "cell_type": "code",
   "execution_count": 4,
   "id": "5fcc8097",
   "metadata": {},
   "outputs": [
    {
     "name": "stdout",
     "output_type": "stream",
     "text": [
      "Test accuracy: 0.9583333333333334\n"
     ]
    }
   ],
   "source": [
    "import numpy as np\n",
    "from sklearn.base import ClassifierMixin\n",
    "from sklearn.svm import SVC\n",
    "from sklearn.datasets import load_digits\n",
    "from sklearn.model_selection import train_test_split\n",
    "\n",
    "def train_test() -> None:\n",
    "    digits = load_digits()\n",
    "    data = digits.images.reshape((len(digits.images),-1))\n",
    "    X_train, X_test, y_train, y_test = train_test_split(data, digits.target, test_size = 0.2, shuffle=False)\n",
    "    model = SVC(gamma=0.001)\n",
    "    model.fit(X_train, y_train)\n",
    "    test_acc = model.score(X_test, y_test)\n",
    "    print(f\"Test accuracy: {test_acc}\")\n",
    "    \n",
    "\n",
    "train_test()"
   ]
  },
  {
   "cell_type": "code",
   "execution_count": 11,
   "id": "026aa2e6",
   "metadata": {},
   "outputs": [],
   "source": [
    "from zenml import step\n",
    "from typing_extensions import Annotated\n",
    "import pandas as pd \n",
    "from typing import Tuple\n",
    "import numpy as np\n",
    "\n",
    "@step\n",
    "def importer() -> Tuple[\n",
    "    Annotated[np.ndarray, \"X_train\"],\n",
    "    Annotated[np.ndarray, \"X_test\"],\n",
    "    Annotated[np.ndarray, \"y_train\"],\n",
    "    Annotated[np.ndarray, \"y_test\"],\n",
    "]:\n",
    "    \"\"\"Load the digits dataset as numpy arrays\"\"\"\n",
    "    digits = load_digits()\n",
    "    data = digits.data.reshape((len(digits.images), -1))\n",
    "    X_train, X_test, y_train, y_test = train_test_split(\n",
    "      data, digits.target, test_size = 0.2, shuffle=False\n",
    "    )\n",
    "    \n",
    "    return X_train, X_test, y_train, y_test\n",
    "\n",
    "\n",
    "@step\n",
    "def svc_trainer(\n",
    " X_train : np.ndarray,\n",
    "    y_train: np.ndarray,\n",
    ") -> ClassifierMixin:\n",
    "    \"\"\"Train an sklearn svc classifier \"\"\"\n",
    "    model = SVC(gamma = 0.001)\n",
    "    model.fit(X_train, y_train)\n",
    "    return model\n",
    "\n",
    "@step \n",
    "def evaluator(\n",
    "    X_test : np.ndarray,\n",
    "    y_test : np.ndarray,\n",
    "        model:ClassifierMixin,\n",
    ") -> float :\n",
    "        \"\"\"Calculate the test set accuracy of an sklearn model. \"\"\"\n",
    "        test_acc = model.score(X_test, y_test)\n",
    "        print(f\"Test Accuracy : {test_acc}\")\n",
    "        return test_acc\n",
    "\n",
    "    \n",
    "\n",
    "        "
   ]
  },
  {
   "cell_type": "code",
   "execution_count": 12,
   "id": "3b4a04a4",
   "metadata": {},
   "outputs": [],
   "source": [
    "from zenml import pipeline\n",
    "\n",
    "@pipeline\n",
    "def digits_pipeline():\n",
    "    \"\"\"Links all the steps together in pipeline\"\"\"\n",
    "    X_train, X_test, y_train, y_test = importer()\n",
    "    model = svc_trainer(X_train=X_train, y_train = y_train)\n",
    "    evaluator(X_test=X_test, y_test=y_test, model=model)"
   ]
  },
  {
   "cell_type": "code",
   "execution_count": 13,
   "id": "f8fe2c7d",
   "metadata": {},
   "outputs": [
    {
     "name": "stdout",
     "output_type": "stream",
     "text": [
      "\u001b[1;35mInitiating a new run for the pipeline: \u001b[0m\u001b[1;36mdigits_pipeline\u001b[1;35m.\u001b[0m\n",
      "\u001b[1;35mRegistered new version: \u001b[0m\u001b[1;36m(version 3)\u001b[1;35m.\u001b[0m\n",
      "\u001b[1;35mExecuting a new run.\u001b[0m\n",
      "\u001b[1;35mUsing user: \u001b[0m\u001b[1;36mdefault\u001b[1;35m\u001b[0m\n",
      "\u001b[1;35mUsing stack: \u001b[0m\u001b[1;36mdefault\u001b[1;35m\u001b[0m\n",
      "\u001b[1;35m  artifact_store: \u001b[0m\u001b[1;36mdefault\u001b[1;35m\u001b[0m\n",
      "\u001b[1;35m  orchestrator: \u001b[0m\u001b[1;36mdefault\u001b[1;35m\u001b[0m\n",
      "\u001b[1;35mYou can visualize your pipeline runs in the \u001b[0m\u001b[1;36mZenML Dashboard\u001b[1;35m. In order to try it locally, please run \u001b[0m\u001b[1;36mzenml up\u001b[1;35m.\u001b[0m\n",
      "\u001b[1;35mUsing cached version of \u001b[0m\u001b[1;36mimporter\u001b[1;35m.\u001b[0m\n",
      "\u001b[1;35mStep \u001b[0m\u001b[1;36mimporter\u001b[1;35m has started.\u001b[0m\n",
      "\u001b[1;35mUsing cached version of \u001b[0m\u001b[1;36msvc_trainer\u001b[1;35m.\u001b[0m\n",
      "\u001b[1;35mStep \u001b[0m\u001b[1;36msvc_trainer\u001b[1;35m has started.\u001b[0m\n",
      "\u001b[1;35mStep \u001b[0m\u001b[1;36mevaluator\u001b[1;35m has started.\u001b[0m\n",
      "Test Accuracy : 0.9583333333333334\n",
      "\u001b[1;35mStep \u001b[0m\u001b[1;36mevaluator\u001b[1;35m has finished in \u001b[0m\u001b[1;36m0.547s\u001b[1;35m.\u001b[0m\n",
      "\u001b[1;35mPipeline run has finished in \u001b[0m\u001b[1;36m0.660s\u001b[1;35m.\u001b[0m\n"
     ]
    }
   ],
   "source": [
    "digits_svc_pipeline = digits_pipeline()\n"
   ]
  },
  {
   "cell_type": "code",
   "execution_count": null,
   "id": "db1c90d2",
   "metadata": {},
   "outputs": [],
   "source": []
  }
 ],
 "metadata": {
  "kernelspec": {
   "display_name": "Python 3 (ipykernel)",
   "language": "python",
   "name": "python3"
  },
  "language_info": {
   "codemirror_mode": {
    "name": "ipython",
    "version": 3
   },
   "file_extension": ".py",
   "mimetype": "text/x-python",
   "name": "python",
   "nbconvert_exporter": "python",
   "pygments_lexer": "ipython3",
   "version": "3.11.5"
  }
 },
 "nbformat": 4,
 "nbformat_minor": 5
}
